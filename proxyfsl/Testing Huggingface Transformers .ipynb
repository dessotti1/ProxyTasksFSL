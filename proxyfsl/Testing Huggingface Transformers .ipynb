{
 "cells": [
  {
   "cell_type": "code",
   "execution_count": 20,
   "id": "9a68a132",
   "metadata": {},
   "outputs": [
    {
     "name": "stdout",
     "output_type": "stream",
     "text": [
      "Embedding médio normalizado salvo em 'embedding_medio_normalizado_airfield.txt'\n",
      "Embedding médio normalizado salvo em 'embedding_medio_normalizado_bus.txt'\n",
      "Embedding médio normalizado salvo em 'embedding_medio_normalizado_cafeteria.txt'\n",
      "Embedding médio normalizado salvo em 'embedding_medio_normalizado_castle.txt'\n",
      "Embedding médio normalizado salvo em 'embedding_medio_normalizado_highway.txt'\n"
     ]
    }
   ],
   "source": [
    "from PIL import Image\n",
    "import torch\n",
    "from transformers import CLIPProcessor, CLIPModel\n",
    "import os\n",
    "import numpy as np\n",
    "\n",
    "# Carregar modelo CLIP\n",
    "model = CLIPModel.from_pretrained(\"openai/clip-vit-base-patch32\")\n",
    "processor = CLIPProcessor.from_pretrained(\"openai/clip-vit-base-patch32\")\n",
    "\n",
    "# Lista de pastas para suas imagens\n",
    "paths = ['airfield', 'bus', 'cafeteria', 'castle', 'highway']\n",
    "embs = []\n",
    "\n",
    "for path in paths:\n",
    "    image_paths = os.listdir(path)\n",
    "    embeddings = []\n",
    "\n",
    "    for img_path in image_paths:\n",
    "        image = Image.open(os.path.join(path, img_path))\n",
    "        inputs = processor(images=image, return_tensors=\"pt\")\n",
    "        outputs = model.get_image_features(**inputs)\n",
    "        embeddings.append(outputs.detach().cpu().numpy())\n",
    "\n",
    "    embeddings = np.vstack(embeddings)\n",
    "    embedding_medio = np.mean(embeddings, axis=0)\n",
    "\n",
    "    norm = np.linalg.norm(embedding_medio)\n",
    "    embedding_normalizado = embedding_medio / norm\n",
    "\n",
    "    # Salva em arquivo diferente para cada categoria\n",
    "    filename = f\"embedding_medio_normalizado_{path}.txt\"\n",
    "    with open(filename, \"w\") as f:\n",
    "        f.write(\", \".join(map(str, embedding_normalizado)))\n",
    "\n",
    "    print(f\"Embedding médio normalizado salvo em '{filename}'\")\n",
    "    embs.append(embedding_normalizado)\n"
   ]
  },
  {
   "cell_type": "code",
   "execution_count": 34,
   "id": "07625847",
   "metadata": {},
   "outputs": [],
   "source": [
    "image_paths = [\"image1.jpg\", \"image2.jpg\"]\n",
    "\n",
    "embeddings = []\n",
    "embs2 = []\n",
    "\n",
    "for img_path in image_paths:\n",
    "    image = Image.open(img_path)\n",
    "    inputs = processor(images=image, return_tensors=\"pt\")\n",
    "    outputs = model.get_image_features(**inputs)\n",
    "    embeddings.append(outputs.detach().cpu().numpy())\n",
    "\n",
    "\n",
    "for i, emb in enumerate(embeddings):\n",
    "    norm = np.linalg.norm(emb)\n",
    "    embedding_normalizado = emb / norm\n",
    "    embs2.append(embedding_normalizado)"
   ]
  },
  {
   "cell_type": "code",
   "execution_count": 37,
   "id": "78191df9",
   "metadata": {},
   "outputs": [
    {
     "data": {
      "text/plain": [
       "(5, 2)"
      ]
     },
     "execution_count": 37,
     "metadata": {},
     "output_type": "execute_result"
    }
   ],
   "source": [
    "len(embs), len(embs2)"
   ]
  },
  {
   "cell_type": "code",
   "execution_count": 49,
   "id": "d6df7864",
   "metadata": {},
   "outputs": [
    {
     "ename": "AttributeError",
     "evalue": "'list' object has no attribute 'shape'",
     "output_type": "error",
     "traceback": [
      "\u001b[1;31m---------------------------------------------------------------------------\u001b[0m",
      "\u001b[1;31mAttributeError\u001b[0m                            Traceback (most recent call last)",
      "Cell \u001b[1;32mIn[49], line 1\u001b[0m\n\u001b[1;32m----> 1\u001b[0m \u001b[38;5;28mprint\u001b[39m(\u001b[43membs\u001b[49m\u001b[38;5;241;43m.\u001b[39;49m\u001b[43mshape\u001b[49m)\n\u001b[0;32m      2\u001b[0m \u001b[38;5;28mprint\u001b[39m(embs2\u001b[38;5;241m.\u001b[39mshape)\n",
      "\u001b[1;31mAttributeError\u001b[0m: 'list' object has no attribute 'shape'"
     ]
    }
   ],
   "source": []
  },
  {
   "cell_type": "code",
   "execution_count": 52,
   "id": "05bdd6a9",
   "metadata": {},
   "outputs": [],
   "source": [
    "embs2 = [v.squeeze() for v in embs2]  # agora cada vetor é 1D (512,)\n"
   ]
  },
  {
   "cell_type": "code",
   "execution_count": 53,
   "id": "b3f1e17a",
   "metadata": {},
   "outputs": [
    {
     "name": "stdout",
     "output_type": "stream",
     "text": [
      "[[0.6013254  0.4319015 ]\n",
      " [0.6763138  0.51939744]\n",
      " [0.61813474 0.6564508 ]\n",
      " [0.54627985 0.48749232]\n",
      " [0.8154751  0.58003324]]\n"
     ]
    }
   ],
   "source": [
    "from sklearn.metrics.pairwise import cosine_similarity\n",
    "\n",
    "# embs e embs2 são arrays numpy de formato (n_samples_1, dim) e (n_samples_2, dim)\n",
    "similarity_matrix = cosine_similarity(embs, embs2)\n",
    "\n",
    "print(similarity_matrix)  # Matriz de tamanho (n_samples_1, n_samples_2)\n"
   ]
  },
  {
   "cell_type": "code",
   "execution_count": 55,
   "id": "b21940ff",
   "metadata": {},
   "outputs": [
    {
     "name": "stdout",
     "output_type": "stream",
     "text": [
      "[[0.18939131 0.17985524]\n",
      " [0.20413953 0.19630083]\n",
      " [0.19260177 0.22513533]\n",
      " [0.1792479  0.19013667]\n",
      " [0.2346195  0.20857194]]\n"
     ]
    }
   ],
   "source": [
    "import numpy as np\n",
    "\n",
    "def softmax(x, axis=1):\n",
    "    x_exp = np.exp(x - np.max(x, axis=axis, keepdims=True))\n",
    "    return x_exp / np.sum(x_exp, axis=axis, keepdims=True)\n",
    "\n",
    "softmax_similarities = softmax(similarity_matrix, axis=0)\n",
    "\n",
    "print(softmax_similarities)\n"
   ]
  },
  {
   "cell_type": "code",
   "execution_count": 60,
   "id": "3510efb2",
   "metadata": {},
   "outputs": [
    {
     "name": "stdout",
     "output_type": "stream",
     "text": [
      "airfield: 17.99%\n",
      "bus interior: 19.63%\n",
      "cafeteria: 22.51%\n",
      "castle: 19.01%\n",
      "highway: 20.86%\n"
     ]
    }
   ],
   "source": [
    "categories = [\"airfield\", \"bus interior\", \"cafeteria\", \"castle\", \"highway\"]\n",
    "\n",
    "\n",
    "similarity_dict = {cat: vec for cat, vec in zip(categories, softmax_similarities)}\n",
    "\n",
    "# Exibir\n",
    "for k, v in similarity_dict.items():\n",
    "    print(f\"{k}: {round(v[1] * 100, 2)}%\")"
   ]
  },
  {
   "cell_type": "code",
   "execution_count": 62,
   "id": "938884ad",
   "metadata": {},
   "outputs": [
    {
     "name": "stdout",
     "output_type": "stream",
     "text": [
      "Similaridade cosseno entre v1 e v2: 0.9648\n",
      "Similaridade cosseno entre v1 e v3: 0.8944\n",
      "Softmax das similaridades: [0.51757691 0.48242309]\n"
     ]
    }
   ],
   "source": [
    "import numpy as np\n",
    "\n",
    "# Vetores\n",
    "v1 = np.array([0.6, 0.8])\n",
    "v2 = np.array([0.9, 0.7])\n",
    "v3 = np.array([0.2, 0.1])\n",
    "\n",
    "# Função similaridade de cosseno\n",
    "def cosine_similarity(a, b):\n",
    "    return np.dot(a, b) / (np.linalg.norm(a) * np.linalg.norm(b))\n",
    "\n",
    "# Calculando similaridades\n",
    "sim_v1_v2 = cosine_similarity(v1, v2)\n",
    "sim_v1_v3 = cosine_similarity(v1, v3)\n",
    "\n",
    "# Função Softmax\n",
    "def softmax(x):\n",
    "    e_x = np.exp(x - np.max(x))  # estabilidade numérica\n",
    "    return e_x / e_x.sum()\n",
    "\n",
    "# Softmax entre as similaridades\n",
    "similarities = np.array([sim_v1_v2, sim_v1_v3])\n",
    "softmax_similarities = softmax(similarities)\n",
    "\n",
    "print(f\"Similaridade cosseno entre v1 e v2: {sim_v1_v2:.4f}\")\n",
    "print(f\"Similaridade cosseno entre v1 e v3: {sim_v1_v3:.4f}\")\n",
    "print(f\"Softmax das similaridades: {softmax_similarities}\")\n"
   ]
  },
  {
   "cell_type": "code",
   "execution_count": 14,
   "id": "a6dc199e",
   "metadata": {},
   "outputs": [
    {
     "data": {
      "image/png": "[encoded data removed]",
      "text/plain": [
       "<Figure size 800x600 with 1 Axes>"
      ]
     },
     "metadata": {},
     "output_type": "display_data"
    }
   ],
   "source": [
    "import numpy as np\n",
    "import matplotlib.pyplot as plt\n",
    "\n",
    "# Vetores simulados (embeddings de imagens)\n",
    "campo_futebol = np.array([0.9, 0.1])\n",
    "montanha = np.array([0.1, 0.95])\n",
    "query = np.array([0.85, 0.15])\n",
    "\n",
    "# Criando o gráfico com setas (vetores)\n",
    "plt.figure(figsize=(8, 6))\n",
    "\n",
    "# Plotando os vetores do suporte e da query\n",
    "plt.quiver(0, 0, campo_futebol[0], campo_futebol[1], angles='xy', scale_units='xy', scale=1, color='green', label='Campo de Futebol')\n",
    "plt.quiver(0, 0, montanha[0], montanha[1], angles='xy', scale_units='xy', scale=1, color='blue', label='Montanha')\n",
    "plt.quiver(0, 0, query[0], query[1], angles='xy', scale_units='xy', scale=1, color='red', label='Query')\n",
    "\n",
    "# Anotações de texto\n",
    "plt.text(campo_futebol[0]+0.02, campo_futebol[1], 'Campo', color='green')\n",
    "plt.text(montanha[0]+0.02, montanha[1], 'Montanha', color='blue')\n",
    "plt.text(query[0]+0.02, query[1], 'Query', color='red')\n",
    "\n",
    "# Ajustes do gráfico\n",
    "plt.xlim(0, 1.1)\n",
    "plt.ylim(0, 1.1)\n",
    "plt.grid(True)\n",
    "plt.legend()\n",
    "plt.gca().set_aspect('equal', adjustable='box')\n",
    "plt.show()\n"
   ]
  },
  {
   "cell_type": "code",
   "execution_count": 23,
   "id": "1005c5ea",
   "metadata": {},
   "outputs": [
    {
     "name": "stdout",
     "output_type": "stream",
     "text": [
      "Campo de Futebol Normalizado: [0.994 0.11 ]\n",
      "Montanha Normalizado: [0.301 0.954]\n",
      "Query Normalizado: [0.973 0.229]\n"
     ]
    },
    {
     "data": {
      "image/png": "[encoded data removed]",
      "text/plain": [
       "<Figure size 800x600 with 1 Axes>"
      ]
     },
     "metadata": {},
     "output_type": "display_data"
    }
   ],
   "source": [
    "import numpy as np\n",
    "import matplotlib.pyplot as plt\n",
    "\n",
    "# Vetores originais (embeddings)\n",
    "campo_futebol = np.array([0.9, 0.1])\n",
    "montanha = np.array([0.3, 0.95])\n",
    "query = np.array([0.85, 0.2])\n",
    "\n",
    "# Função para normalizar um vetor\n",
    "def normalize(v):\n",
    "    return v / np.linalg.norm(v)\n",
    "\n",
    "# Normalizando os vetores\n",
    "campo_futebol_norm = normalize(campo_futebol)\n",
    "montanha_norm = normalize(montanha)\n",
    "query_norm = normalize(query)\n",
    "\n",
    "print(\"Campo de Futebol Normalizado:\", np.round(campo_futebol_norm, 3))\n",
    "print(\"Montanha Normalizado:\", np.round(montanha_norm, 3))\n",
    "print(\"Query Normalizado:\", np.round(query_norm, 3))\n",
    "\n",
    "# Criando o gráfico com setas (vetores normalizados)\n",
    "plt.figure(figsize=(8, 6))\n",
    "\n",
    "plt.quiver(0, 0, campo_futebol_norm[0], campo_futebol_norm[1], angles='xy', scale_units='xy', scale=1, color='green', label='Campo de Futebol')\n",
    "plt.quiver(0, 0, montanha_norm[0], montanha_norm[1], angles='xy', scale_units='xy', scale=1, color='blue', label='Montanha')\n",
    "plt.quiver(0, 0, query_norm[0], query_norm[1], angles='xy', scale_units='xy', scale=1, color='red', label='Query')\n",
    "\n",
    "plt.xlim(0, 1.1)\n",
    "plt.ylim(0, 1.1)\n",
    "plt.grid(True)\n",
    "plt.legend()\n",
    "plt.gca().set_aspect('equal', adjustable='box')\n",
    "plt.show()\n"
   ]
  },
  {
   "cell_type": "code",
   "execution_count": 24,
   "id": "f0ce7f3f",
   "metadata": {},
   "outputs": [
    {
     "name": "stdout",
     "output_type": "stream",
     "text": [
      "Similaridade de Cosseno (Query x Campo de Futebol): 0.99\n",
      "Similaridade de Cosseno (Query x Montanha): 0.51\n"
     ]
    }
   ],
   "source": [
    "# Produto interno entre vetores normalizados = similaridade de cosseno\n",
    "sim_campo_query = campo_futebol_norm @ query_norm\n",
    "sim_montanha_query = montanha_norm @ query_norm\n",
    "\n",
    "print(f\"Similaridade de Cosseno (Query x Campo de Futebol): {sim_campo_query:.2f}\")\n",
    "print(f\"Similaridade de Cosseno (Query x Montanha): {sim_montanha_query:.2f}\")\n"
   ]
  }
 ],
 "metadata": {
  "kernelspec": {
   "display_name": "Python 3 (ipykernel)",
   "language": "python",
   "name": "python3"
  },
  "language_info": {
   "codemirror_mode": {
    "name": "ipython",
    "version": 3
   },
   "file_extension": ".py",
   "mimetype": "text/x-python",
   "name": "python",
   "nbconvert_exporter": "python",
   "pygments_lexer": "ipython3",
   "version": "3.12.3"
  }
 },
 "nbformat": 4,
 "nbformat_minor": 5
}
